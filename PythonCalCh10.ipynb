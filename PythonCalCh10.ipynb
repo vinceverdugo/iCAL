{
 "cells": [
  {
   "cell_type": "markdown",
   "id": "5a659f07",
   "metadata": {},
   "source": [
    "_______\n",
    "_______\n",
    "\n",
    "\n",
    "# <center>Chapter 10: Stokes-Cartan Theorem <br><sup><sup><br><br>\n",
    "_______\n",
    "_______"
   ]
  },
  {
   "cell_type": "code",
   "execution_count": 2,
   "id": "c855c911",
   "metadata": {},
   "outputs": [],
   "source": [
    "import numpy as np\n",
    "import pandas as pd\n",
    "import math as m\n",
    "import matplotlib\n",
    "import statistics as stats\n",
    "import scipy.stats as scistats\n",
    "import matplotlib.pyplot as plt\n",
    "import matplotlib.colors as color\n",
    "import os\n",
    "import sys\n",
    "import math\n",
    "import netCDF4 as nc\n",
    "import statsmodels.api as sm\n",
    "import shapely\n",
    "import statistics\n",
    "import warnings\n",
    "warnings.filterwarnings(\"ignore\")\n",
    "\n",
    "from sympy import symbols, diff\n",
    "from scipy.optimize import fsolve\n",
    "from matplotlib import cm as cm1\n",
    "from scipy import optimize as opt\n",
    "from pandas import read_table\n",
    "from matplotlib.colors import LinearSegmentedColormap\n",
    "from matplotlib.patches import Polygon\n",
    "from scipy.ndimage import gaussian_filter\n",
    "from sklearn.linear_model import LinearRegression"
   ]
  },
  {
   "cell_type": "code",
   "execution_count": 3,
   "id": "aaa1ee83",
   "metadata": {},
   "outputs": [],
   "source": [
    "# Style Dictionary to standarize plotting scheme \n",
    "# between different python scripts \n",
    "styledict = {'xtick.labelsize':21,\n",
    "             'xtick.major.size':9,\n",
    "             'xtick.major.width':1,\n",
    "             'ytick.labelsize':21,\n",
    "             'ytick.major.size':9,\n",
    "             'ytick.major.width':1,\n",
    "             'legend.framealpha':0.0,\n",
    "             'legend.fontsize':15,\n",
    "             'axes.labelsize':22,\n",
    "             'axes.titlesize':22,\n",
    "             'axes.linewidth':2,\n",
    "             'figure.figsize':(12,8),\n",
    "             'savefig.format':'jpg'}\n",
    "plt.rcParams.update(**styledict)"
   ]
  },
  {
   "cell_type": "markdown",
   "id": "700d1b18",
   "metadata": {},
   "source": [
    "## Example of computing the area of an ellipse by a planimeter"
   ]
  },
  {
   "cell_type": "code",
   "execution_count": 7,
   "id": "4e90be49",
   "metadata": {},
   "outputs": [
    {
     "name": "stdout",
     "output_type": "stream",
     "text": [
      "25.132575862235456\n",
      "25.132741228718345\n"
     ]
    }
   ],
   "source": [
    "n = 1000\n",
    "a = 4\n",
    "b = 2\n",
    "t = np.linspace(0, 2*np.pi, n+1)\n",
    "x = a*np.cos(t)\n",
    "y = b*np.sin(t)\n",
    "s = np.zeros(n)\n",
    "\n",
    "for i in range(n):\n",
    "    s[i] = -y[i]*x[i+1] + x[i]*y[i+1]\n",
    "    \n",
    "A = 0.5*sum(s)\n",
    "print(A)\n",
    "# area of an ellipse according to formula: pi ab\n",
    "print(np.pi*a*b)"
   ]
  },
  {
   "cell_type": "markdown",
   "id": "5a07c80d",
   "metadata": {},
   "source": [
    "## Compute the area of an ellipse by a planimeter with u = (0,x)"
   ]
  },
  {
   "cell_type": "code",
   "execution_count": 8,
   "id": "41673daf",
   "metadata": {},
   "outputs": [
    {
     "data": {
      "text/plain": [
       "25.1325758622358"
      ]
     },
     "execution_count": 8,
     "metadata": {},
     "output_type": "execute_result"
    }
   ],
   "source": [
    "n = 1000\n",
    "a = 4\n",
    "b = 2\n",
    "t = np.linspace(0, 2*np.pi, n+1)\n",
    "x = a*np.cos(t)\n",
    "y = b*np.sin(t)\n",
    "s = np.zeros(n)\n",
    "\n",
    "for i in range(n):\n",
    "    s[i] = x[i]*(y[i+1]-y[i])\n",
    "\n",
    "A = sum(s)\n",
    "A"
   ]
  }
 ],
 "metadata": {
  "kernelspec": {
   "display_name": "Python 3 (ipykernel)",
   "language": "python",
   "name": "python3"
  },
  "language_info": {
   "codemirror_mode": {
    "name": "ipython",
    "version": 3
   },
   "file_extension": ".py",
   "mimetype": "text/x-python",
   "name": "python",
   "nbconvert_exporter": "python",
   "pygments_lexer": "ipython3",
   "version": "3.12.7"
  }
 },
 "nbformat": 4,
 "nbformat_minor": 5
}
